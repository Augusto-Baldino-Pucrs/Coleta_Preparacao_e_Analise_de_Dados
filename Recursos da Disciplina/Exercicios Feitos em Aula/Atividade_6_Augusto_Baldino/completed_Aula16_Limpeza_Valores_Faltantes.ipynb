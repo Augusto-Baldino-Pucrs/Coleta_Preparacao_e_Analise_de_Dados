{
 "cells": [
  {
   "cell_type": "markdown",
   "id": "b7f70a07",
   "metadata": {},
   "source": [
    "# Aula 16 — Limpeza de Dados: Valores Faltantes (completo)\n",
    "\n",
    "Notebook gerado automaticamente com análise passo-a-passo e exemplos de imputação.\n"
   ]
  },
  {
   "cell_type": "markdown",
   "id": "f939914c",
   "metadata": {},
   "source": [
    "## 1) Importar bibliotecas e carregar dados\n",
    "\n",
    "Carregamos pandas, numpy e lemos `titanic.csv`."
   ]
  },
  {
   "cell_type": "code",
   "execution_count": null,
   "id": "b49f9418",
   "metadata": {},
   "outputs": [],
   "source": [
    "import pandas as pd\n",
    "import numpy as np\n",
    "from pathlib import Path\n",
    "\n",
    "DATA_PATH = Path('/mnt/data')\n",
    "df = pd.read_csv(DATA_PATH / 'titanic.csv')\n",
    "df.head()"
   ]
  },
  {
   "cell_type": "markdown",
   "id": "0f5d9d93",
   "metadata": {},
   "source": [
    "## 2) Resumo de valores faltantes\n",
    "\n",
    "Quantidade e % de valores faltantes por coluna."
   ]
  },
  {
   "cell_type": "code",
   "execution_count": null,
   "id": "79de3898",
   "metadata": {},
   "outputs": [],
   "source": [
    "missing_counts = df.isnull().sum().sort_values(ascending=False)\n",
    "missing_percent = (df.isnull().mean() * 100).round(2).sort_values(ascending=False)\n",
    "missing_summary = pd.concat([missing_counts, missing_percent], axis=1)\n",
    "missing_summary.columns = ['missing_count', 'missing_percent']\n",
    "missing_summary[missing_summary['missing_count']>0]"
   ]
  },
  {
   "cell_type": "markdown",
   "id": "0b569957",
   "metadata": {},
   "source": [
    "## 3) Exemplo — Deleção de observações com `Age` faltante"
   ]
  },
  {
   "cell_type": "code",
   "execution_count": null,
   "id": "509bb24b",
   "metadata": {},
   "outputs": [],
   "source": [
    "df_drop_age = df.dropna(subset=['Age'])\n",
    "rows_removed = df.shape[0] - df_drop_age.shape[0]\n",
    "rows_removed, df_drop_age.shape"
   ]
  },
  {
   "cell_type": "markdown",
   "id": "84bb94d6",
   "metadata": {},
   "source": [
    "## 4) Substituição Dummy"
   ]
  },
  {
   "cell_type": "code",
   "execution_count": null,
   "id": "de0deaa2",
   "metadata": {},
   "outputs": [],
   "source": [
    "df_dummy = df.copy()\n",
    "if 'Cabin' in df_dummy.columns:\n",
    "    df_dummy['Cabin'] = df_dummy['Cabin'].fillna('Unknown')\n",
    "if 'Age' in df_dummy.columns:\n",
    "    df_dummy['Age_dummy'] = df_dummy['Age'].fillna(-1)\n",
    "df_dummy[['PassengerId','Name','Age','Cabin']].head(10)"
   ]
  },
  {
   "cell_type": "markdown",
   "id": "b179cec9",
   "metadata": {},
   "source": [
    "## 5) Substituição por média/mediana/moda"
   ]
  },
  {
   "cell_type": "code",
   "execution_count": null,
   "id": "a04160b4",
   "metadata": {},
   "outputs": [],
   "source": [
    "df_stat = df.copy()\n",
    "age_mean = df_stat['Age'].mean()\n",
    "age_median = df_stat['Age'].median()\n",
    "embarked_mode = df_stat['Embarked'].mode().iloc[0] if 'Embarked' in df_stat.columns and not df_stat['Embarked'].mode().empty else None\n",
    "\n",
    "df_stat['Age_mean_imputed'] = df_stat['Age'].fillna(age_mean)\n",
    "df_stat['Age_median_imputed'] = df_stat['Age'].fillna(age_median)\n",
    "if embarked_mode is not None:\n",
    "    df_stat['Embarked_mode_imputed'] = df_stat['Embarked'].fillna(embarked_mode)\n",
    "\n",
    "age_mean, age_median, embarked_mode"
   ]
  },
  {
   "cell_type": "markdown",
   "id": "7e4a40e2",
   "metadata": {},
   "source": [
    "## 6) Imputação por regressão (estimativa de Age)\n",
    "\n",
    "Usamos RandomForestRegressor para prever Age a partir de Pclass, Sex, SibSp, Parch e Fare."
   ]
  },
  {
   "cell_type": "code",
   "execution_count": null,
   "id": "a66f912a",
   "metadata": {},
   "outputs": [],
   "source": [
    "# Código para Imputação por regressão (RandomForest)\n",
    "from sklearn.ensemble import RandomForestRegressor\n",
    "from sklearn.preprocessing import LabelEncoder\n",
    "\n",
    "predictors = [c for c in ['Pclass','Sex','SibSp','Parch','Fare'] if c in df.columns]\n",
    "df_reg = df[predictors + ['Age']].copy()\n",
    "\n",
    "if 'Sex' in df_reg.columns:\n",
    "    le = LabelEncoder()\n",
    "    df_reg['Sex_enc'] = le.fit_transform(df_reg['Sex'].astype(str))\n",
    "    df_reg = df_reg.drop(columns=['Sex'])\n",
    "\n",
    "if 'Fare' in df_reg.columns:\n",
    "    df_reg['Fare'] = df_reg['Fare'].fillna(df_reg['Fare'].median())\n",
    "\n",
    "known = df_reg[df_reg['Age'].notnull()]\n",
    "unknown = df_reg[df_reg['Age'].isnull()]\n",
    "\n",
    "if not unknown.empty and len(known) >= 10:\n",
    "    X_train = known.drop(columns=['Age'])\n",
    "    y_train = known['Age']\n",
    "    X_pred = unknown.drop(columns=['Age'])\n",
    "    rf = RandomForestRegressor(n_estimators=100, random_state=42)\n",
    "    rf.fit(X_train, y_train)\n",
    "    preds = rf.predict(X_pred)\n",
    "    df_regressed = df.copy()\n",
    "    df_regressed.loc[df_regressed['Age'].isnull(), 'Age_regression_imputed'] = preds\n",
    "    df_regressed['Age_regression_filled'] = df_regressed['Age']\n",
    "    df_regressed.loc[df_regressed['Age_regression_filled'].isnull(), 'Age_regression_filled'] = df_regressed.loc[df_regressed['Age_regression_filled'].isnull(), 'Age_regression_imputed']\n",
    "    df_regressed[['PassengerId','Age','Age_regression_imputed','Age_regression_filled']].head(10)\n",
    "else:\n",
    "    'Insufficient data for regression imputation or no missing Age'"
   ]
  },
  {
   "cell_type": "markdown",
   "id": "8b8162f0",
   "metadata": {},
   "source": [
    "## 7) Imputação KNN (dados numéricos)\n",
    "\n",
    "Exemplo com KNNImputer para preencher valores numéricos com base em vizinhos."
   ]
  },
  {
   "cell_type": "code",
   "execution_count": null,
   "id": "b7b56a7d",
   "metadata": {},
   "outputs": [],
   "source": [
    "from sklearn.impute import KNNImputer\n",
    "numeric_cols = df.select_dtypes(include=[np.number]).columns.tolist()\n",
    "knn_df = df[numeric_cols].copy()\n",
    "knn_imputer = KNNImputer(n_neighbors=5)\n",
    "knn_filled = knn_imputer.fit_transform(knn_df)\n",
    "knn_filled_df = pd.DataFrame(knn_filled, columns=numeric_cols, index=knn_df.index)\n",
    "knn_filled_df[['Age','Fare']].head(10)"
   ]
  },
  {
   "cell_type": "markdown",
   "id": "c0600feb",
   "metadata": {},
   "source": [
    "## 8) Salvar dataset tratado (exemplo final)\n",
    "\n",
    "Estratégia final: Embarked moda, Cabin Unknown, Age pela imputação por regressão quando disponível, senão pela mediana."
   ]
  },
  {
   "cell_type": "code",
   "execution_count": null,
   "id": "d867d5d4",
   "metadata": {},
   "outputs": [],
   "source": [
    "df_final = df.copy()\n",
    "if 'Embarked' in df_final.columns:\n",
    "    if not df_final['Embarked'].mode().empty:\n",
    "        df_final['Embarked'] = df_final['Embarked'].fillna(df_final['Embarked'].mode().iloc[0])\n",
    "if 'Cabin' in df_final.columns:\n",
    "    df_final['Cabin'] = df_final['Cabin'].fillna('Unknown')\n",
    "if 'Age_regression_filled' in globals():\n",
    "    try:\n",
    "        df_final['Age'] = df_regressed['Age_regression_filled']\n",
    "    except Exception:\n",
    "        df_final['Age'] = df_final['Age'].fillna(df_final['Age'].median())\n",
    "else:\n",
    "    if 'Age' in df_final.columns:\n",
    "        df_final['Age'] = df_final['Age'].fillna(df_final['Age'].median())\n",
    "\n",
    "# salvar\n",
    "from pathlib import Path\n",
    "DATA_PATH = Path('/mnt/data')\n",
    "df_final.to_csv(DATA_PATH / 'titanic_cleaned.csv', index=False)\n",
    "'dataset salvo'"
   ]
  },
  {
   "cell_type": "markdown",
   "id": "7ded2632",
   "metadata": {},
   "source": [
    "## 9) Conclusão e recomendações\n",
    "\n",
    "- Deleção quando aceitável perder linhas.\n",
    "- Dummy para sinalizar ausência.\n",
    "- Média/mediana/moda para imputações simples.\n",
    "- Modelos (regressão/classificação), KNN ou IterativeImputer para imputações mais informadas.\n",
    "\n",
    "Os arquivos gerados foram salvos em `/mnt/data`: \n",
    "- `completed_Aula16_Limpeza_Valores_Faltantes.ipynb` (este notebook)\n",
    "- `titanic_cleaned.csv` (dataset tratado)"
   ]
  }
 ],
 "metadata": {},
 "nbformat": 4,
 "nbformat_minor": 5
}
